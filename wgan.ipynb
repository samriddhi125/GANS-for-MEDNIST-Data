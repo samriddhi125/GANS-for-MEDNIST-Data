{
 "cells": [
  {
   "cell_type": "markdown",
   "metadata": {},
   "source": [
    "# WGAN"
   ]
  },
  {
   "cell_type": "code",
   "execution_count": null,
   "metadata": {
    "_cell_guid": "b1076dfc-b9ad-4769-8c92-a6c4dae69d19",
    "_uuid": "8f2839f25d086af736a60e9eeb907d3b93b6e0e5",
    "trusted": true
   },
   "outputs": [],
   "source": [
    "# This Python 3 environment comes with many helpful analytics libraries installed\n",
    "# It is defined by the kaggle/python Docker image: https://github.com/kaggle/docker-python\n",
    "# For example, here's several helpful packages to load\n",
    "\n",
    "import numpy as np # linear algebra\n",
    "import pandas as pd # data processing, CSV file I/O (e.g. pd.read_csv)\n",
    "\n",
    "# Input data files are available in the read-only \"../input/\" directory\n",
    "# For example, running this (by clicking run or pressing Shift+Enter) will list all files under the input directory\n",
    "\n",
    "import os\n",
    "for dirname, _, filenames in os.walk('/kaggle/input'):\n",
    "    for filename in filenames:\n",
    "        print(os.path.join(dirname, filename))\n",
    "\n",
    "# You can write up to 20GB to the current directory (/kaggle/working/) that gets preserved as output when you create a version using \"Save & Run All\" \n",
    "# You can also write temporary files to /kaggle/temp/, but they won't be saved outside of the current session"
   ]
  },
  {
   "cell_type": "code",
   "execution_count": 2,
   "metadata": {
    "execution": {
     "iopub.execute_input": "2025-03-29T07:23:43.454966Z",
     "iopub.status.busy": "2025-03-29T07:23:43.454642Z",
     "iopub.status.idle": "2025-03-29T07:23:50.071715Z",
     "shell.execute_reply": "2025-03-29T07:23:50.070819Z",
     "shell.execute_reply.started": "2025-03-29T07:23:43.454939Z"
    },
    "trusted": true
   },
   "outputs": [
    {
     "name": "stdout",
     "output_type": "stream",
     "text": [
      "Collecting medmnist\n",
      "  Downloading medmnist-3.0.2-py3-none-any.whl.metadata (14 kB)\n",
      "Requirement already satisfied: numpy in /usr/local/lib/python3.10/dist-packages (from medmnist) (1.26.4)\n",
      "Requirement already satisfied: pandas in /usr/local/lib/python3.10/dist-packages (from medmnist) (2.2.3)\n",
      "Requirement already satisfied: scikit-learn in /usr/local/lib/python3.10/dist-packages (from medmnist) (1.2.2)\n",
      "Requirement already satisfied: scikit-image in /usr/local/lib/python3.10/dist-packages (from medmnist) (0.25.0)\n",
      "Requirement already satisfied: tqdm in /usr/local/lib/python3.10/dist-packages (from medmnist) (4.67.1)\n",
      "Requirement already satisfied: Pillow in /usr/local/lib/python3.10/dist-packages (from medmnist) (11.0.0)\n",
      "Collecting fire (from medmnist)\n",
      "  Downloading fire-0.7.0.tar.gz (87 kB)\n",
      "\u001b[2K     \u001b[90m━━━━━━━━━━━━━━━━━━━━━━━━━━━━━━━━━━━━━━━━\u001b[0m \u001b[32m87.2/87.2 kB\u001b[0m \u001b[31m4.7 MB/s\u001b[0m eta \u001b[36m0:00:00\u001b[0m\n",
      "\u001b[?25h  Preparing metadata (setup.py) ... \u001b[?25l\u001b[?25hdone\n",
      "Requirement already satisfied: torch in /usr/local/lib/python3.10/dist-packages (from medmnist) (2.5.1+cu121)\n",
      "Requirement already satisfied: torchvision in /usr/local/lib/python3.10/dist-packages (from medmnist) (0.20.1+cu121)\n",
      "Requirement already satisfied: termcolor in /usr/local/lib/python3.10/dist-packages (from fire->medmnist) (2.5.0)\n",
      "Requirement already satisfied: mkl_fft in /usr/local/lib/python3.10/dist-packages (from numpy->medmnist) (1.3.8)\n",
      "Requirement already satisfied: mkl_random in /usr/local/lib/python3.10/dist-packages (from numpy->medmnist) (1.2.4)\n",
      "Requirement already satisfied: mkl_umath in /usr/local/lib/python3.10/dist-packages (from numpy->medmnist) (0.1.1)\n",
      "Requirement already satisfied: mkl in /usr/local/lib/python3.10/dist-packages (from numpy->medmnist) (2025.0.1)\n",
      "Requirement already satisfied: tbb4py in /usr/local/lib/python3.10/dist-packages (from numpy->medmnist) (2022.0.0)\n",
      "Requirement already satisfied: mkl-service in /usr/local/lib/python3.10/dist-packages (from numpy->medmnist) (2.4.1)\n",
      "Requirement already satisfied: python-dateutil>=2.8.2 in /usr/local/lib/python3.10/dist-packages (from pandas->medmnist) (2.9.0.post0)\n",
      "Requirement already satisfied: pytz>=2020.1 in /usr/local/lib/python3.10/dist-packages (from pandas->medmnist) (2025.1)\n",
      "Requirement already satisfied: tzdata>=2022.7 in /usr/local/lib/python3.10/dist-packages (from pandas->medmnist) (2025.1)\n",
      "Requirement already satisfied: scipy>=1.11.2 in /usr/local/lib/python3.10/dist-packages (from scikit-image->medmnist) (1.13.1)\n",
      "Requirement already satisfied: networkx>=3.0 in /usr/local/lib/python3.10/dist-packages (from scikit-image->medmnist) (3.4.2)\n",
      "Requirement already satisfied: imageio!=2.35.0,>=2.33 in /usr/local/lib/python3.10/dist-packages (from scikit-image->medmnist) (2.36.1)\n",
      "Requirement already satisfied: tifffile>=2022.8.12 in /usr/local/lib/python3.10/dist-packages (from scikit-image->medmnist) (2024.12.12)\n",
      "Requirement already satisfied: packaging>=21 in /usr/local/lib/python3.10/dist-packages (from scikit-image->medmnist) (24.2)\n",
      "Requirement already satisfied: lazy-loader>=0.4 in /usr/local/lib/python3.10/dist-packages (from scikit-image->medmnist) (0.4)\n",
      "Requirement already satisfied: joblib>=1.1.1 in /usr/local/lib/python3.10/dist-packages (from scikit-learn->medmnist) (1.4.2)\n",
      "Requirement already satisfied: threadpoolctl>=2.0.0 in /usr/local/lib/python3.10/dist-packages (from scikit-learn->medmnist) (3.5.0)\n",
      "Requirement already satisfied: filelock in /usr/local/lib/python3.10/dist-packages (from torch->medmnist) (3.17.0)\n",
      "Requirement already satisfied: typing-extensions>=4.8.0 in /usr/local/lib/python3.10/dist-packages (from torch->medmnist) (4.12.2)\n",
      "Requirement already satisfied: jinja2 in /usr/local/lib/python3.10/dist-packages (from torch->medmnist) (3.1.4)\n",
      "Requirement already satisfied: fsspec in /usr/local/lib/python3.10/dist-packages (from torch->medmnist) (2024.12.0)\n",
      "Requirement already satisfied: sympy==1.13.1 in /usr/local/lib/python3.10/dist-packages (from torch->medmnist) (1.13.1)\n",
      "Requirement already satisfied: mpmath<1.4,>=1.1.0 in /usr/local/lib/python3.10/dist-packages (from sympy==1.13.1->torch->medmnist) (1.3.0)\n",
      "Requirement already satisfied: six>=1.5 in /usr/local/lib/python3.10/dist-packages (from python-dateutil>=2.8.2->pandas->medmnist) (1.17.0)\n",
      "Requirement already satisfied: MarkupSafe>=2.0 in /usr/local/lib/python3.10/dist-packages (from jinja2->torch->medmnist) (3.0.2)\n",
      "Requirement already satisfied: intel-openmp>=2024 in /usr/local/lib/python3.10/dist-packages (from mkl->numpy->medmnist) (2024.2.0)\n",
      "Requirement already satisfied: tbb==2022.* in /usr/local/lib/python3.10/dist-packages (from mkl->numpy->medmnist) (2022.0.0)\n",
      "Requirement already satisfied: tcmlib==1.* in /usr/local/lib/python3.10/dist-packages (from tbb==2022.*->mkl->numpy->medmnist) (1.2.0)\n",
      "Requirement already satisfied: intel-cmplr-lib-rt in /usr/local/lib/python3.10/dist-packages (from mkl_umath->numpy->medmnist) (2024.2.0)\n",
      "Requirement already satisfied: intel-cmplr-lib-ur==2024.2.0 in /usr/local/lib/python3.10/dist-packages (from intel-openmp>=2024->mkl->numpy->medmnist) (2024.2.0)\n",
      "Downloading medmnist-3.0.2-py3-none-any.whl (25 kB)\n",
      "Building wheels for collected packages: fire\n",
      "  Building wheel for fire (setup.py) ... \u001b[?25l\u001b[?25hdone\n",
      "  Created wheel for fire: filename=fire-0.7.0-py3-none-any.whl size=114249 sha256=b7e876180d93986d77bd479943ce4d7841db6f79101da6290220c8855ae9fe41\n",
      "  Stored in directory: /root/.cache/pip/wheels/19/39/2f/2d3cadc408a8804103f1c34ddd4b9f6a93497b11fa96fe738e\n",
      "Successfully built fire\n",
      "Installing collected packages: fire, medmnist\n",
      "Successfully installed fire-0.7.0 medmnist-3.0.2\n",
      "Note: you may need to restart the kernel to use updated packages.\n"
     ]
    }
   ],
   "source": [
    "pip install medmnist"
   ]
  },
  {
   "cell_type": "code",
   "execution_count": 4,
   "metadata": {
    "execution": {
     "iopub.execute_input": "2025-03-29T07:24:14.086421Z",
     "iopub.status.busy": "2025-03-29T07:24:14.085811Z",
     "iopub.status.idle": "2025-03-29T07:24:14.090989Z",
     "shell.execute_reply": "2025-03-29T07:24:14.090136Z",
     "shell.execute_reply.started": "2025-03-29T07:24:14.086387Z"
    },
    "trusted": true
   },
   "outputs": [],
   "source": [
    "import torch\n",
    "import torch.nn as nn\n",
    "import torch.optim as optim\n",
    "import torchvision\n",
    "import torchvision.transforms as transforms\n",
    "from torch.utils.data import DataLoader\n",
    "import matplotlib.pyplot as plt\n",
    "import numpy as np\n",
    "import os\n",
    "from medmnist import ChestMNIST\n",
    "from torch.utils.tensorboard import SummaryWriter\n",
    "from scipy.linalg import sqrtm\n",
    "import torch.nn.functional as F\n",
    "from torchvision.models import inception_v3\n"
   ]
  },
  {
   "cell_type": "code",
   "execution_count": 5,
   "metadata": {
    "execution": {
     "iopub.execute_input": "2025-03-29T07:24:16.344621Z",
     "iopub.status.busy": "2025-03-29T07:24:16.344320Z",
     "iopub.status.idle": "2025-03-29T07:24:16.396522Z",
     "shell.execute_reply": "2025-03-29T07:24:16.395583Z",
     "shell.execute_reply.started": "2025-03-29T07:24:16.344597Z"
    },
    "trusted": true
   },
   "outputs": [],
   "source": [
    "# Set device\n",
    "device = torch.device(\"cuda\" if torch.cuda.is_available() else \"cpu\")"
   ]
  },
  {
   "cell_type": "code",
   "execution_count": 6,
   "metadata": {
    "execution": {
     "iopub.execute_input": "2025-03-29T07:24:18.042727Z",
     "iopub.status.busy": "2025-03-29T07:24:18.042384Z",
     "iopub.status.idle": "2025-03-29T07:24:20.412894Z",
     "shell.execute_reply": "2025-03-29T07:24:20.412193Z",
     "shell.execute_reply.started": "2025-03-29T07:24:18.042693Z"
    },
    "trusted": true
   },
   "outputs": [
    {
     "name": "stdout",
     "output_type": "stream",
     "text": [
      "Downloading https://zenodo.org/records/10519652/files/chestmnist.npz?download=1 to /root/.medmnist/chestmnist.npz\n"
     ]
    },
    {
     "name": "stderr",
     "output_type": "stream",
     "text": [
      "100%|██████████| 82.8M/82.8M [00:01<00:00, 56.9MB/s]\n"
     ]
    }
   ],
   "source": [
    "# Load dataset\n",
    "transform = transforms.Compose([\n",
    "    transforms.ToTensor(),\n",
    "    transforms.Normalize((0.5,), (0.5,))\n",
    "])\n",
    "\n",
    "dataset = ChestMNIST(split='train', transform=transform, download=True)\n",
    "dataloader = DataLoader(dataset, batch_size=64, shuffle=True)"
   ]
  },
  {
   "cell_type": "code",
   "execution_count": 7,
   "metadata": {
    "execution": {
     "iopub.execute_input": "2025-03-29T07:24:27.790674Z",
     "iopub.status.busy": "2025-03-29T07:24:27.790383Z",
     "iopub.status.idle": "2025-03-29T07:24:27.797223Z",
     "shell.execute_reply": "2025-03-29T07:24:27.796349Z",
     "shell.execute_reply.started": "2025-03-29T07:24:27.790650Z"
    },
    "trusted": true
   },
   "outputs": [],
   "source": [
    "# Define Generator\n",
    "class Generator(nn.Module):\n",
    "    def __init__(self, latent_dim):\n",
    "        super(Generator, self).__init__()\n",
    "        self.model = nn.Sequential(\n",
    "            nn.Linear(latent_dim, 256),\n",
    "            nn.ReLU(),\n",
    "            nn.Linear(256, 512),\n",
    "            nn.BatchNorm1d(512),\n",
    "            nn.ReLU(),\n",
    "            nn.Linear(512, 1024),\n",
    "            nn.BatchNorm1d(1024),\n",
    "            nn.ReLU(),\n",
    "            nn.Linear(1024, 28 * 28),\n",
    "            nn.Tanh()\n",
    "        )\n",
    "\n",
    "    def forward(self, z):\n",
    "        img = self.model(z)\n",
    "        return img.view(-1, 1, 28, 28)\n",
    "\n",
    "# Define Critic (Discriminator) for WGAN\n",
    "class Critic(nn.Module):\n",
    "    def __init__(self):\n",
    "        super(Critic, self).__init__()\n",
    "        self.model = nn.Sequential(\n",
    "            nn.Linear(28 * 28, 1024),\n",
    "            nn.LeakyReLU(0.2),\n",
    "            nn.Linear(1024, 512),\n",
    "            nn.LeakyReLU(0.2),\n",
    "            nn.Linear(512, 256),\n",
    "            nn.LeakyReLU(0.2),\n",
    "            nn.Linear(256, 1)\n",
    "        )\n",
    "\n",
    "    def forward(self, img):\n",
    "        img_flat = img.view(img.size(0), -1)\n",
    "        return self.model(img_flat)"
   ]
  },
  {
   "cell_type": "code",
   "execution_count": 8,
   "metadata": {
    "execution": {
     "iopub.execute_input": "2025-03-29T07:24:34.708411Z",
     "iopub.status.busy": "2025-03-29T07:24:34.708092Z",
     "iopub.status.idle": "2025-03-29T07:24:34.712085Z",
     "shell.execute_reply": "2025-03-29T07:24:34.711246Z",
     "shell.execute_reply.started": "2025-03-29T07:24:34.708384Z"
    },
    "trusted": true
   },
   "outputs": [],
   "source": [
    "\n",
    "# Hyperparameters\n",
    "latent_dim = 100\n",
    "lr = 0.00005\n",
    "epochs = 50\n",
    "critic_iterations = 5\n",
    "weight_clip = 0.01"
   ]
  },
  {
   "cell_type": "code",
   "execution_count": 9,
   "metadata": {
    "execution": {
     "iopub.execute_input": "2025-03-29T07:24:42.638415Z",
     "iopub.status.busy": "2025-03-29T07:24:42.638130Z",
     "iopub.status.idle": "2025-03-29T07:24:42.904936Z",
     "shell.execute_reply": "2025-03-29T07:24:42.904267Z",
     "shell.execute_reply.started": "2025-03-29T07:24:42.638393Z"
    },
    "trusted": true
   },
   "outputs": [],
   "source": [
    "# Initialize models\n",
    "generator = Generator(latent_dim).to(device)\n",
    "critic = Critic().to(device)\n",
    "\n",
    "# Optimizers\n",
    "optimizer_G = optim.RMSprop(generator.parameters(), lr=lr)\n",
    "optimizer_C = optim.RMSprop(critic.parameters(), lr=lr)"
   ]
  },
  {
   "cell_type": "code",
   "execution_count": 10,
   "metadata": {
    "execution": {
     "iopub.execute_input": "2025-03-29T07:24:48.490470Z",
     "iopub.status.busy": "2025-03-29T07:24:48.490163Z",
     "iopub.status.idle": "2025-03-29T07:24:48.496044Z",
     "shell.execute_reply": "2025-03-29T07:24:48.495185Z",
     "shell.execute_reply.started": "2025-03-29T07:24:48.490448Z"
    },
    "trusted": true
   },
   "outputs": [],
   "source": [
    "# TensorBoard setup\n",
    "writer = SummaryWriter(\"runs/WGAN_training\")"
   ]
  },
  {
   "cell_type": "code",
   "execution_count": 11,
   "metadata": {
    "execution": {
     "iopub.execute_input": "2025-03-29T07:25:01.284085Z",
     "iopub.status.busy": "2025-03-29T07:25:01.283742Z",
     "iopub.status.idle": "2025-03-29T07:52:44.301520Z",
     "shell.execute_reply": "2025-03-29T07:52:44.300733Z",
     "shell.execute_reply.started": "2025-03-29T07:25:01.284059Z"
    },
    "trusted": true
   },
   "outputs": [
    {
     "name": "stdout",
     "output_type": "stream",
     "text": [
      "Epoch [1/50] | C Loss: -3.4717 | G Loss: 5.5042\n",
      "Epoch [2/50] | C Loss: -2.5898 | G Loss: 2.2095\n",
      "Epoch [3/50] | C Loss: -2.1811 | G Loss: 0.6703\n",
      "Epoch [4/50] | C Loss: -4.2153 | G Loss: 7.5487\n",
      "Epoch [5/50] | C Loss: -3.4428 | G Loss: -0.4039\n",
      "Epoch [6/50] | C Loss: -8.2330 | G Loss: 2.5806\n",
      "Epoch [7/50] | C Loss: -1.2140 | G Loss: -2.5557\n",
      "Epoch [8/50] | C Loss: -2.8013 | G Loss: 2.6814\n",
      "Epoch [9/50] | C Loss: -3.9775 | G Loss: 10.3735\n",
      "Epoch [10/50] | C Loss: -1.5178 | G Loss: -0.1331\n",
      "Epoch [11/50] | C Loss: -3.0128 | G Loss: 2.4879\n",
      "Epoch [12/50] | C Loss: -4.5274 | G Loss: 3.0694\n",
      "Epoch [13/50] | C Loss: -4.9698 | G Loss: 5.7786\n",
      "Epoch [14/50] | C Loss: -5.6664 | G Loss: 3.1471\n",
      "Epoch [15/50] | C Loss: -4.8466 | G Loss: 4.4056\n",
      "Epoch [16/50] | C Loss: -4.3698 | G Loss: 5.2789\n",
      "Epoch [17/50] | C Loss: -4.6058 | G Loss: 7.7177\n",
      "Epoch [18/50] | C Loss: -2.0770 | G Loss: -0.6910\n",
      "Epoch [19/50] | C Loss: -1.7036 | G Loss: -2.0120\n",
      "Epoch [20/50] | C Loss: -3.3900 | G Loss: 0.7751\n",
      "Epoch [21/50] | C Loss: -4.5751 | G Loss: 7.0484\n",
      "Epoch [22/50] | C Loss: -5.1614 | G Loss: 0.2263\n",
      "Epoch [23/50] | C Loss: -4.3883 | G Loss: -1.4117\n",
      "Epoch [24/50] | C Loss: -4.2265 | G Loss: -6.8718\n",
      "Epoch [25/50] | C Loss: -6.8771 | G Loss: 8.4442\n",
      "Epoch [26/50] | C Loss: -1.5340 | G Loss: 5.3640\n",
      "Epoch [27/50] | C Loss: -1.5789 | G Loss: 1.7950\n",
      "Epoch [28/50] | C Loss: -0.5139 | G Loss: -8.1048\n",
      "Epoch [29/50] | C Loss: -0.6598 | G Loss: 4.0243\n",
      "Epoch [30/50] | C Loss: -3.0680 | G Loss: 1.0322\n",
      "Epoch [31/50] | C Loss: -6.7068 | G Loss: 8.4081\n",
      "Epoch [32/50] | C Loss: -3.1580 | G Loss: 7.4094\n",
      "Epoch [33/50] | C Loss: -2.3031 | G Loss: 7.3965\n",
      "Epoch [34/50] | C Loss: -3.1184 | G Loss: 2.5122\n",
      "Epoch [35/50] | C Loss: -4.2187 | G Loss: 3.5748\n",
      "Epoch [36/50] | C Loss: -2.2738 | G Loss: 5.8676\n",
      "Epoch [37/50] | C Loss: -1.7999 | G Loss: 6.1317\n",
      "Epoch [38/50] | C Loss: -2.5735 | G Loss: 0.7375\n",
      "Epoch [39/50] | C Loss: 0.0635 | G Loss: -2.2667\n",
      "Epoch [40/50] | C Loss: -0.8158 | G Loss: 5.7677\n",
      "Epoch [41/50] | C Loss: -2.8353 | G Loss: 6.0391\n",
      "Epoch [42/50] | C Loss: -2.3896 | G Loss: 2.4889\n",
      "Epoch [43/50] | C Loss: -0.0038 | G Loss: -2.4434\n",
      "Epoch [44/50] | C Loss: -1.3123 | G Loss: 1.6478\n",
      "Epoch [45/50] | C Loss: -3.9876 | G Loss: 1.8345\n",
      "Epoch [46/50] | C Loss: -1.3193 | G Loss: 5.3672\n",
      "Epoch [47/50] | C Loss: -4.1545 | G Loss: 7.7251\n",
      "Epoch [48/50] | C Loss: -3.0740 | G Loss: -1.2375\n",
      "Epoch [49/50] | C Loss: -1.8093 | G Loss: -0.4565\n",
      "Epoch [50/50] | C Loss: -3.1299 | G Loss: -2.0217\n"
     ]
    }
   ],
   "source": [
    "# Training Loop\n",
    "for epoch in range(epochs):\n",
    "    for i, (real_images, _) in enumerate(dataloader):\n",
    "        real_images = real_images.to(device)\n",
    "        batch_size = real_images.size(0)\n",
    "        \n",
    "        # Train Critic multiple times per Generator step\n",
    "        for _ in range(critic_iterations):\n",
    "            optimizer_C.zero_grad()\n",
    "            \n",
    "            z = torch.randn(batch_size, latent_dim).to(device)\n",
    "            fake_images = generator(z).detach()\n",
    "            \n",
    "            c_loss = -torch.mean(critic(real_images)) + torch.mean(critic(fake_images))\n",
    "            c_loss.backward()\n",
    "            optimizer_C.step()\n",
    "            \n",
    "            # Weight Clipping\n",
    "            for p in critic.parameters():\n",
    "                p.data.clamp_(-weight_clip, weight_clip)\n",
    "        \n",
    "        # Train Generator\n",
    "        optimizer_G.zero_grad()\n",
    "        fake_images = generator(z)\n",
    "        g_loss = -torch.mean(critic(fake_images))\n",
    "        g_loss.backward()\n",
    "        optimizer_G.step()\n",
    "\n",
    "    print(f\"Epoch [{epoch+1}/{epochs}] | C Loss: {c_loss.item():.4f} | G Loss: {g_loss.item():.4f}\")\n",
    "    writer.add_scalar(\"Loss/Generator\", g_loss.item(), epoch)\n",
    "    writer.add_scalar(\"Loss/Critic\", c_loss.item(), epoch)\n",
    "    \n",
    "    if (epoch + 1) % 10 == 0:\n",
    "        torchvision.utils.save_image(fake_images[:16], f\"wgan_epoch{epoch+1}.png\", nrow=4, normalize=True)\n",
    "        torch.save(generator.state_dict(), f\"generator_epoch{epoch+1}.pth\")\n",
    "        torch.save(critic.state_dict(), f\"critic_epoch{epoch+1}.pth\")\n",
    "\n",
    "writer.close()"
   ]
  },
  {
   "cell_type": "code",
   "execution_count": 14,
   "metadata": {
    "execution": {
     "iopub.execute_input": "2025-03-29T07:54:04.222440Z",
     "iopub.status.busy": "2025-03-29T07:54:04.222146Z",
     "iopub.status.idle": "2025-03-29T07:54:06.404710Z",
     "shell.execute_reply": "2025-03-29T07:54:06.403997Z",
     "shell.execute_reply.started": "2025-03-29T07:54:04.222418Z"
    },
    "trusted": true
   },
   "outputs": [],
   "source": [
    "def calculate_fid(real_images, fake_images):\n",
    "    # Reshape images to 2D (batch_size, flattened_features)\n",
    "    real_images = real_images.reshape(real_images.shape[0], -1)\n",
    "    fake_images = fake_images.reshape(fake_images.shape[0], -1)\n",
    "\n",
    "    mu_real, sigma_real = np.mean(real_images, axis=0), np.cov(real_images, rowvar=False)\n",
    "    mu_fake, sigma_fake = np.mean(fake_images, axis=0), np.cov(fake_images, rowvar=False)\n",
    "\n",
    "    # Compute FID\n",
    "    fid_matrix = sigma_real + sigma_fake - 2 * sqrtm(sigma_real @ sigma_fake)\n",
    "    fid_score = np.linalg.norm(mu_real - mu_fake) + np.trace(fid_matrix)\n",
    "\n",
    "    return np.real(fid_score)\n",
    "\n",
    "\n",
    "# Compute Inception Score (IS)\n",
    "def get_pred(x):\n",
    "    inception_model = inception_v3(weights=\"Inception_V3_Weights.DEFAULT\", transform_input=False).to(device)\n",
    "    inception_model.eval()\n",
    "    with torch.no_grad():\n",
    "        if x.shape[1] == 1:\n",
    "            x = x.repeat(1, 3, 1, 1)\n",
    "        x = F.interpolate(x, size=(299, 299), mode='bilinear', align_corners=False)\n",
    "        x = inception_model(x)\n",
    "        return F.softmax(x, dim=1).cpu().numpy()\n",
    "\n",
    "def inception_score(images, batch_size=32, splits=10):\n",
    "    preds = np.zeros((len(images), 1000))\n",
    "    \n",
    "    for i in range(0, len(images), batch_size):\n",
    "        batch = images[i:i + batch_size].to(device)\n",
    "        preds[i:i + batch_size] = get_pred(batch)\n",
    "    \n",
    "    split_scores = []\n",
    "    for k in np.array_split(preds, splits):\n",
    "        p_yx = np.mean(k, axis=0)\n",
    "        p_yx = np.clip(p_yx, 1e-10, 1.0)\n",
    "        k = np.clip(k, 1e-10, 1.0)\n",
    "        kl_div = k * (np.log(k) - np.log(p_yx))\n",
    "        split_scores.append(np.sum(kl_div, axis=1).mean())\n",
    "    \n",
    "    return np.exp(np.mean(split_scores))\n",
    "\n",
    "# Example: Compute IS and FID\n",
    "fake_images = generator(torch.randn(100, latent_dim).to(device)).detach().cpu()\n",
    "is_score = inception_score(fake_images)\n",
    "fid_score = calculate_fid(fake_images.numpy(), dataset.imgs[:100])"
   ]
  },
  {
   "cell_type": "code",
   "execution_count": 15,
   "metadata": {
    "execution": {
     "iopub.execute_input": "2025-03-29T07:54:09.814218Z",
     "iopub.status.busy": "2025-03-29T07:54:09.813935Z",
     "iopub.status.idle": "2025-03-29T07:54:09.818875Z",
     "shell.execute_reply": "2025-03-29T07:54:09.818121Z",
     "shell.execute_reply.started": "2025-03-29T07:54:09.814196Z"
    },
    "trusted": true
   },
   "outputs": [
    {
     "name": "stdout",
     "output_type": "stream",
     "text": [
      "Inception Score: 1.9700\n",
      "FID Score: 1567845.4697\n"
     ]
    }
   ],
   "source": [
    "print(f\"Inception Score: {is_score:.4f}\")\n",
    "print(f\"FID Score: {fid_score:.4f}\")"
   ]
  },
  {
   "cell_type": "code",
   "execution_count": 16,
   "metadata": {
    "execution": {
     "iopub.execute_input": "2025-03-29T07:55:17.912065Z",
     "iopub.status.busy": "2025-03-29T07:55:17.911715Z",
     "iopub.status.idle": "2025-03-29T07:55:17.962647Z",
     "shell.execute_reply": "2025-03-29T07:55:17.961889Z",
     "shell.execute_reply.started": "2025-03-29T07:55:17.912039Z"
    },
    "trusted": true
   },
   "outputs": [
    {
     "data": {
      "image/png": "[encoded data removed]",
      "text/plain": [
       "<Figure size 640x480 with 1 Axes>"
      ]
     },
     "metadata": {},
     "output_type": "display_data"
    }
   ],
   "source": [
    "# Load and display generated images\n",
    "img = plt.imread(f\"/kaggle/working/wgan_epoch50.png\")\n",
    "plt.imshow(img)\n",
    "plt.axis(\"off\")\n",
    "plt.show()\n"
   ]
  },
  {
   "cell_type": "code",
   "execution_count": 18,
   "metadata": {
    "execution": {
     "iopub.execute_input": "2025-03-29T07:55:48.903723Z",
     "iopub.status.busy": "2025-03-29T07:55:48.903425Z",
     "iopub.status.idle": "2025-03-29T07:55:54.947223Z",
     "shell.execute_reply": "2025-03-29T07:55:54.946477Z",
     "shell.execute_reply.started": "2025-03-29T07:55:48.903698Z"
    },
    "trusted": true
   },
   "outputs": [
    {
     "data": {
      "application/javascript": "\n        (async () => {\n            const url = new URL(await google.colab.kernel.proxyPort(6006, {'cache': true}));\n            url.searchParams.set('tensorboardColab', 'true');\n            const iframe = document.createElement('iframe');\n            iframe.src = url;\n            iframe.setAttribute('width', '100%');\n            iframe.setAttribute('height', '800');\n            iframe.setAttribute('frameborder', 0);\n            document.body.appendChild(iframe);\n        })();\n    ",
      "text/plain": [
       "<IPython.core.display.Javascript object>"
      ]
     },
     "metadata": {},
     "output_type": "display_data"
    }
   ],
   "source": [
    "from torch.utils.tensorboard import SummaryWriter\n",
    "from tensorboard import notebook\n",
    "\n",
    "# Define the log directory\n",
    "log_dir = \"./runs/experiment_1\"\n",
    "\n",
    "# Start TensorBoard\n",
    "notebook.start(\"--logdir \" + log_dir)\n"
   ]
  },
  {
   "cell_type": "code",
   "execution_count": 19,
   "metadata": {
    "execution": {
     "iopub.execute_input": "2025-03-29T07:56:04.689674Z",
     "iopub.status.busy": "2025-03-29T07:56:04.689388Z",
     "iopub.status.idle": "2025-03-29T07:56:09.206732Z",
     "shell.execute_reply": "2025-03-29T07:56:09.206018Z",
     "shell.execute_reply.started": "2025-03-29T07:56:04.689651Z"
    },
    "trusted": true
   },
   "outputs": [
    {
     "data": {
      "application/javascript": "\n        (async () => {\n            const url = new URL(await google.colab.kernel.proxyPort(6007, {'cache': true}));\n            url.searchParams.set('tensorboardColab', 'true');\n            const iframe = document.createElement('iframe');\n            iframe.src = url;\n            iframe.setAttribute('width', '100%');\n            iframe.setAttribute('height', '800');\n            iframe.setAttribute('frameborder', 0);\n            document.body.appendChild(iframe);\n        })();\n    ",
      "text/plain": [
       "<IPython.core.display.Javascript object>"
      ]
     },
     "metadata": {},
     "output_type": "display_data"
    }
   ],
   "source": [
    "%load_ext tensorboard\n",
    "%tensorboard --logdir ./runs\n"
   ]
  },
  {
   "cell_type": "code",
   "execution_count": 20,
   "metadata": {
    "execution": {
     "iopub.execute_input": "2025-03-29T07:56:14.301920Z",
     "iopub.status.busy": "2025-03-29T07:56:14.301604Z",
     "iopub.status.idle": "2025-03-29T07:56:14.463800Z",
     "shell.execute_reply": "2025-03-29T07:56:14.462830Z",
     "shell.execute_reply.started": "2025-03-29T07:56:14.301893Z"
    },
    "trusted": true
   },
   "outputs": [
    {
     "name": "stdout",
     "output_type": "stream",
     "text": [
      "  adding: runs/ (stored 0%)\n",
      "  adding: runs/Mar29_07-55-24_ea1b9629ed81/ (stored 0%)\n",
      "  adding: runs/Mar29_07-55-24_ea1b9629ed81/events.out.tfevents.1743234924.ea1b9629ed81.31.1 (deflated 9%)\n",
      "  adding: runs/WGAN_training/ (stored 0%)\n",
      "  adding: runs/WGAN_training/events.out.tfevents.1743233088.ea1b9629ed81.31.0 (deflated 64%)\n"
     ]
    }
   ],
   "source": [
    "!zip -r tensorboard_logs.zip ./runs\n"
   ]
  },
  {
   "cell_type": "code",
   "execution_count": null,
   "metadata": {
    "trusted": true
   },
   "outputs": [],
   "source": []
  }
 ],
 "metadata": {
  "kaggle": {
   "accelerator": "gpu",
   "dataSources": [],
   "dockerImageVersionId": 30919,
   "isGpuEnabled": true,
   "isInternetEnabled": true,
   "language": "python",
   "sourceType": "notebook"
  },
  "kernelspec": {
   "display_name": "Python 3",
   "language": "python",
   "name": "python3"
  },
  "language_info": {
   "codemirror_mode": {
    "name": "ipython",
    "version": 3
   },
   "file_extension": ".py",
   "mimetype": "text/x-python",
   "name": "python",
   "nbconvert_exporter": "python",
   "pygments_lexer": "ipython3",
   "version": "3.10.12"
  }
 },
 "nbformat": 4,
 "nbformat_minor": 4
}
