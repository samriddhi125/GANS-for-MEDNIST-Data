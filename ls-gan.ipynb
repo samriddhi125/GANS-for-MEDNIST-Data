{
 "cells": [
  {
   "cell_type": "markdown",
   "metadata": {},
   "source": [
    "# LS GAN"
   ]
  },
  {
   "cell_type": "code",
   "execution_count": null,
   "metadata": {
    "_cell_guid": "b1076dfc-b9ad-4769-8c92-a6c4dae69d19",
    "_uuid": "8f2839f25d086af736a60e9eeb907d3b93b6e0e5",
    "trusted": true
   },
   "outputs": [],
   "source": [
    "# This Python 3 environment comes with many helpful analytics libraries installed\n",
    "# It is defined by the kaggle/python Docker image: https://github.com/kaggle/docker-python\n",
    "# For example, here's several helpful packages to load\n",
    "\n",
    "import numpy as np # linear algebra\n",
    "import pandas as pd # data processing, CSV file I/O (e.g. pd.read_csv)\n",
    "\n",
    "# Input data files are available in the read-only \"../input/\" directory\n",
    "# For example, running this (by clicking run or pressing Shift+Enter) will list all files under the input directory\n",
    "\n",
    "import os\n",
    "for dirname, _, filenames in os.walk('/kaggle/input'):\n",
    "    for filename in filenames:\n",
    "        print(os.path.join(dirname, filename))\n",
    "\n",
    "# You can write up to 20GB to the current directory (/kaggle/working/) that gets preserved as output when you create a version using \"Save & Run All\" \n",
    "# You can also write temporary files to /kaggle/temp/, but they won't be saved outside of the current session"
   ]
  },
  {
   "cell_type": "code",
   "execution_count": 1,
   "metadata": {
    "execution": {
     "iopub.execute_input": "2025-03-29T06:20:46.654237Z",
     "iopub.status.busy": "2025-03-29T06:20:46.653926Z",
     "iopub.status.idle": "2025-03-29T06:20:52.294125Z",
     "shell.execute_reply": "2025-03-29T06:20:52.293382Z",
     "shell.execute_reply.started": "2025-03-29T06:20:46.654214Z"
    },
    "trusted": true
   },
   "outputs": [],
   "source": [
    "import torch\n",
    "import torch.nn as nn\n",
    "import torch.optim as optim\n",
    "import torchvision\n",
    "import torchvision.transforms as transforms\n",
    "from torch.utils.data import DataLoader\n",
    "import matplotlib.pyplot as plt\n",
    "import numpy as np\n",
    "import os"
   ]
  },
  {
   "cell_type": "code",
   "execution_count": 3,
   "metadata": {
    "execution": {
     "iopub.execute_input": "2025-03-29T06:21:37.067918Z",
     "iopub.status.busy": "2025-03-29T06:21:37.067640Z",
     "iopub.status.idle": "2025-03-29T06:21:43.638941Z",
     "shell.execute_reply": "2025-03-29T06:21:43.638018Z",
     "shell.execute_reply.started": "2025-03-29T06:21:37.067898Z"
    },
    "trusted": true
   },
   "outputs": [
    {
     "name": "stdout",
     "output_type": "stream",
     "text": [
      "Collecting medmnist\n",
      "  Downloading medmnist-3.0.2-py3-none-any.whl.metadata (14 kB)\n",
      "Requirement already satisfied: numpy in /usr/local/lib/python3.10/dist-packages (from medmnist) (1.26.4)\n",
      "Requirement already satisfied: pandas in /usr/local/lib/python3.10/dist-packages (from medmnist) (2.2.3)\n",
      "Requirement already satisfied: scikit-learn in /usr/local/lib/python3.10/dist-packages (from medmnist) (1.2.2)\n",
      "Requirement already satisfied: scikit-image in /usr/local/lib/python3.10/dist-packages (from medmnist) (0.25.0)\n",
      "Requirement already satisfied: tqdm in /usr/local/lib/python3.10/dist-packages (from medmnist) (4.67.1)\n",
      "Requirement already satisfied: Pillow in /usr/local/lib/python3.10/dist-packages (from medmnist) (11.0.0)\n",
      "Collecting fire (from medmnist)\n",
      "  Downloading fire-0.7.0.tar.gz (87 kB)\n",
      "\u001b[2K     \u001b[90m━━━━━━━━━━━━━━━━━━━━━━━━━━━━━━━━━━━━━━━━\u001b[0m \u001b[32m87.2/87.2 kB\u001b[0m \u001b[31m3.6 MB/s\u001b[0m eta \u001b[36m0:00:00\u001b[0m\n",
      "\u001b[?25h  Preparing metadata (setup.py) ... \u001b[?25l\u001b[?25hdone\n",
      "Requirement already satisfied: torch in /usr/local/lib/python3.10/dist-packages (from medmnist) (2.5.1+cu121)\n",
      "Requirement already satisfied: torchvision in /usr/local/lib/python3.10/dist-packages (from medmnist) (0.20.1+cu121)\n",
      "Requirement already satisfied: termcolor in /usr/local/lib/python3.10/dist-packages (from fire->medmnist) (2.5.0)\n",
      "Requirement already satisfied: mkl_fft in /usr/local/lib/python3.10/dist-packages (from numpy->medmnist) (1.3.8)\n",
      "Requirement already satisfied: mkl_random in /usr/local/lib/python3.10/dist-packages (from numpy->medmnist) (1.2.4)\n",
      "Requirement already satisfied: mkl_umath in /usr/local/lib/python3.10/dist-packages (from numpy->medmnist) (0.1.1)\n",
      "Requirement already satisfied: mkl in /usr/local/lib/python3.10/dist-packages (from numpy->medmnist) (2025.0.1)\n",
      "Requirement already satisfied: tbb4py in /usr/local/lib/python3.10/dist-packages (from numpy->medmnist) (2022.0.0)\n",
      "Requirement already satisfied: mkl-service in /usr/local/lib/python3.10/dist-packages (from numpy->medmnist) (2.4.1)\n",
      "Requirement already satisfied: python-dateutil>=2.8.2 in /usr/local/lib/python3.10/dist-packages (from pandas->medmnist) (2.9.0.post0)\n",
      "Requirement already satisfied: pytz>=2020.1 in /usr/local/lib/python3.10/dist-packages (from pandas->medmnist) (2025.1)\n",
      "Requirement already satisfied: tzdata>=2022.7 in /usr/local/lib/python3.10/dist-packages (from pandas->medmnist) (2025.1)\n",
      "Requirement already satisfied: scipy>=1.11.2 in /usr/local/lib/python3.10/dist-packages (from scikit-image->medmnist) (1.13.1)\n",
      "Requirement already satisfied: networkx>=3.0 in /usr/local/lib/python3.10/dist-packages (from scikit-image->medmnist) (3.4.2)\n",
      "Requirement already satisfied: imageio!=2.35.0,>=2.33 in /usr/local/lib/python3.10/dist-packages (from scikit-image->medmnist) (2.36.1)\n",
      "Requirement already satisfied: tifffile>=2022.8.12 in /usr/local/lib/python3.10/dist-packages (from scikit-image->medmnist) (2024.12.12)\n",
      "Requirement already satisfied: packaging>=21 in /usr/local/lib/python3.10/dist-packages (from scikit-image->medmnist) (24.2)\n",
      "Requirement already satisfied: lazy-loader>=0.4 in /usr/local/lib/python3.10/dist-packages (from scikit-image->medmnist) (0.4)\n",
      "Requirement already satisfied: joblib>=1.1.1 in /usr/local/lib/python3.10/dist-packages (from scikit-learn->medmnist) (1.4.2)\n",
      "Requirement already satisfied: threadpoolctl>=2.0.0 in /usr/local/lib/python3.10/dist-packages (from scikit-learn->medmnist) (3.5.0)\n",
      "Requirement already satisfied: filelock in /usr/local/lib/python3.10/dist-packages (from torch->medmnist) (3.17.0)\n",
      "Requirement already satisfied: typing-extensions>=4.8.0 in /usr/local/lib/python3.10/dist-packages (from torch->medmnist) (4.12.2)\n",
      "Requirement already satisfied: jinja2 in /usr/local/lib/python3.10/dist-packages (from torch->medmnist) (3.1.4)\n",
      "Requirement already satisfied: fsspec in /usr/local/lib/python3.10/dist-packages (from torch->medmnist) (2024.12.0)\n",
      "Requirement already satisfied: sympy==1.13.1 in /usr/local/lib/python3.10/dist-packages (from torch->medmnist) (1.13.1)\n",
      "Requirement already satisfied: mpmath<1.4,>=1.1.0 in /usr/local/lib/python3.10/dist-packages (from sympy==1.13.1->torch->medmnist) (1.3.0)\n",
      "Requirement already satisfied: six>=1.5 in /usr/local/lib/python3.10/dist-packages (from python-dateutil>=2.8.2->pandas->medmnist) (1.17.0)\n",
      "Requirement already satisfied: MarkupSafe>=2.0 in /usr/local/lib/python3.10/dist-packages (from jinja2->torch->medmnist) (3.0.2)\n",
      "Requirement already satisfied: intel-openmp>=2024 in /usr/local/lib/python3.10/dist-packages (from mkl->numpy->medmnist) (2024.2.0)\n",
      "Requirement already satisfied: tbb==2022.* in /usr/local/lib/python3.10/dist-packages (from mkl->numpy->medmnist) (2022.0.0)\n",
      "Requirement already satisfied: tcmlib==1.* in /usr/local/lib/python3.10/dist-packages (from tbb==2022.*->mkl->numpy->medmnist) (1.2.0)\n",
      "Requirement already satisfied: intel-cmplr-lib-rt in /usr/local/lib/python3.10/dist-packages (from mkl_umath->numpy->medmnist) (2024.2.0)\n",
      "Requirement already satisfied: intel-cmplr-lib-ur==2024.2.0 in /usr/local/lib/python3.10/dist-packages (from intel-openmp>=2024->mkl->numpy->medmnist) (2024.2.0)\n",
      "Downloading medmnist-3.0.2-py3-none-any.whl (25 kB)\n",
      "Building wheels for collected packages: fire\n",
      "  Building wheel for fire (setup.py) ... \u001b[?25l\u001b[?25hdone\n",
      "  Created wheel for fire: filename=fire-0.7.0-py3-none-any.whl size=114249 sha256=a1bf33f582f3a7072a5a11cefc541e87b8017633bde1c6a9fe62ff25a79b7a3b\n",
      "  Stored in directory: /root/.cache/pip/wheels/19/39/2f/2d3cadc408a8804103f1c34ddd4b9f6a93497b11fa96fe738e\n",
      "Successfully built fire\n",
      "Installing collected packages: fire, medmnist\n",
      "Successfully installed fire-0.7.0 medmnist-3.0.2\n",
      "Note: you may need to restart the kernel to use updated packages.\n"
     ]
    }
   ],
   "source": [
    "pip install medmnist\n"
   ]
  },
  {
   "cell_type": "markdown",
   "metadata": {},
   "source": [
    "MedNIST Dataset"
   ]
  },
  {
   "cell_type": "code",
   "execution_count": 4,
   "metadata": {
    "execution": {
     "iopub.execute_input": "2025-03-29T06:21:47.663525Z",
     "iopub.status.busy": "2025-03-29T06:21:47.663228Z",
     "iopub.status.idle": "2025-03-29T06:21:55.152351Z",
     "shell.execute_reply": "2025-03-29T06:21:55.151512Z",
     "shell.execute_reply.started": "2025-03-29T06:21:47.663503Z"
    },
    "trusted": true
   },
   "outputs": [
    {
     "name": "stdout",
     "output_type": "stream",
     "text": [
      "Downloading https://zenodo.org/records/10519652/files/chestmnist.npz?download=1 to /root/.medmnist/chestmnist.npz\n"
     ]
    },
    {
     "name": "stderr",
     "output_type": "stream",
     "text": [
      "100%|██████████| 82.8M/82.8M [00:04<00:00, 17.9MB/s]\n"
     ]
    },
    {
     "data": {
      "image/png": "[encoded data removed]",
      "text/plain": [
       "<Figure size 640x480 with 1 Axes>"
      ]
     },
     "metadata": {},
     "output_type": "display_data"
    }
   ],
   "source": [
    "from medmnist import ChestMNIST\n",
    "\n",
    "transform = transforms.Compose([\n",
    "    transforms.ToTensor(),\n",
    "    transforms.Normalize((0.5,), (0.5,))\n",
    "])\n",
    "\n",
    "dataset = ChestMNIST(split='train', transform=transform, download=True)\n",
    "dataloader = DataLoader(dataset, batch_size=64, shuffle=True)\n",
    "\n",
    "# Check sample images\n",
    "sample = next(iter(dataloader))[0][:16]  # Take first 16 images\n",
    "grid_img = torchvision.utils.make_grid(sample, nrow=4, normalize=True)\n",
    "plt.imshow(grid_img.permute(1, 2, 0))\n",
    "plt.show()\n"
   ]
  },
  {
   "cell_type": "code",
   "execution_count": 5,
   "metadata": {
    "execution": {
     "iopub.execute_input": "2025-03-29T06:22:59.610390Z",
     "iopub.status.busy": "2025-03-29T06:22:59.609861Z",
     "iopub.status.idle": "2025-03-29T06:22:59.615556Z",
     "shell.execute_reply": "2025-03-29T06:22:59.614594Z",
     "shell.execute_reply.started": "2025-03-29T06:22:59.610361Z"
    },
    "trusted": true
   },
   "outputs": [],
   "source": [
    "class Generator(nn.Module):\n",
    "    def __init__(self, latent_dim):\n",
    "        super(Generator, self).__init__()\n",
    "        self.model = nn.Sequential(\n",
    "            nn.Linear(latent_dim, 128),\n",
    "            nn.ReLU(),\n",
    "            nn.Linear(128, 256),\n",
    "            nn.ReLU(),\n",
    "            nn.Linear(256, 512),\n",
    "            nn.ReLU(),\n",
    "            nn.Linear(512, 28 * 28),  # Output image size 28x28\n",
    "            nn.Tanh()\n",
    "        )\n",
    "\n",
    "    def forward(self, z):\n",
    "        img = self.model(z)\n",
    "        return img.view(-1, 1, 28, 28)  # Reshape to image\n"
   ]
  },
  {
   "cell_type": "code",
   "execution_count": 6,
   "metadata": {
    "execution": {
     "iopub.execute_input": "2025-03-29T06:23:05.631491Z",
     "iopub.status.busy": "2025-03-29T06:23:05.631181Z",
     "iopub.status.idle": "2025-03-29T06:23:05.636285Z",
     "shell.execute_reply": "2025-03-29T06:23:05.635300Z",
     "shell.execute_reply.started": "2025-03-29T06:23:05.631466Z"
    },
    "trusted": true
   },
   "outputs": [],
   "source": [
    "class Discriminator(nn.Module):\n",
    "    def __init__(self):\n",
    "        super(Discriminator, self).__init__()\n",
    "        self.model = nn.Sequential(\n",
    "            nn.Linear(28 * 28, 512),\n",
    "            nn.ReLU(),\n",
    "            nn.Linear(512, 256),\n",
    "            nn.ReLU(),\n",
    "            nn.Linear(256, 1)\n",
    "        )\n",
    "\n",
    "    def forward(self, img):\n",
    "        img_flat = img.view(img.size(0), -1)\n",
    "        return self.model(img_flat)\n"
   ]
  },
  {
   "cell_type": "code",
   "execution_count": 7,
   "metadata": {
    "execution": {
     "iopub.execute_input": "2025-03-29T06:23:20.830441Z",
     "iopub.status.busy": "2025-03-29T06:23:20.830145Z",
     "iopub.status.idle": "2025-03-29T06:23:20.886543Z",
     "shell.execute_reply": "2025-03-29T06:23:20.885708Z",
     "shell.execute_reply.started": "2025-03-29T06:23:20.830418Z"
    },
    "trusted": true
   },
   "outputs": [],
   "source": [
    "latent_dim = 100\n",
    "lr = 0.0002\n",
    "epochs = 50\n",
    "device = torch.device(\"cuda\" if torch.cuda.is_available() else \"cpu\")\n"
   ]
  },
  {
   "cell_type": "code",
   "execution_count": 8,
   "metadata": {
    "execution": {
     "iopub.execute_input": "2025-03-29T06:23:27.748671Z",
     "iopub.status.busy": "2025-03-29T06:23:27.748393Z",
     "iopub.status.idle": "2025-03-29T06:23:27.938456Z",
     "shell.execute_reply": "2025-03-29T06:23:27.937781Z",
     "shell.execute_reply.started": "2025-03-29T06:23:27.748652Z"
    },
    "trusted": true
   },
   "outputs": [],
   "source": [
    "generator = Generator(latent_dim).to(device)\n",
    "discriminator = Discriminator().to(device)\n",
    "\n",
    "optimizer_G = optim.Adam(generator.parameters(), lr=lr, betas=(0.5, 0.999))\n",
    "optimizer_D = optim.Adam(discriminator.parameters(), lr=lr, betas=(0.5, 0.999))\n",
    "\n",
    "loss_fn = nn.MSELoss()  # Least Squares Loss\n"
   ]
  },
  {
   "cell_type": "code",
   "execution_count": 9,
   "metadata": {
    "execution": {
     "iopub.execute_input": "2025-03-29T06:23:36.165182Z",
     "iopub.status.busy": "2025-03-29T06:23:36.164882Z",
     "iopub.status.idle": "2025-03-29T06:38:39.412555Z",
     "shell.execute_reply": "2025-03-29T06:38:39.411636Z",
     "shell.execute_reply.started": "2025-03-29T06:23:36.165158Z"
    },
    "trusted": true
   },
   "outputs": [
    {
     "name": "stdout",
     "output_type": "stream",
     "text": [
      "Epoch [1/50] | D Loss: 0.0423 | G Loss: 0.5579\n",
      "Epoch [2/50] | D Loss: 0.0574 | G Loss: 1.0588\n",
      "Epoch [3/50] | D Loss: 0.0591 | G Loss: 2.2991\n",
      "Epoch [4/50] | D Loss: 0.1701 | G Loss: 1.1485\n",
      "Epoch [5/50] | D Loss: 0.1394 | G Loss: 1.9688\n",
      "Epoch [6/50] | D Loss: 0.2302 | G Loss: 1.7004\n",
      "Epoch [7/50] | D Loss: 0.1434 | G Loss: 1.2358\n",
      "Epoch [8/50] | D Loss: 0.1063 | G Loss: 1.5827\n",
      "Epoch [9/50] | D Loss: 0.1474 | G Loss: 1.1530\n",
      "Epoch [10/50] | D Loss: 0.2277 | G Loss: 1.1191\n",
      "Epoch [11/50] | D Loss: 0.2020 | G Loss: 1.6982\n",
      "Epoch [12/50] | D Loss: 0.2153 | G Loss: 1.3781\n",
      "Epoch [13/50] | D Loss: 0.2343 | G Loss: 0.8150\n",
      "Epoch [14/50] | D Loss: 0.2235 | G Loss: 1.1109\n",
      "Epoch [15/50] | D Loss: 0.2083 | G Loss: 0.9643\n",
      "Epoch [16/50] | D Loss: 0.2892 | G Loss: 1.0361\n",
      "Epoch [17/50] | D Loss: 0.2513 | G Loss: 0.7649\n",
      "Epoch [18/50] | D Loss: 0.2235 | G Loss: 0.7731\n",
      "Epoch [19/50] | D Loss: 0.2038 | G Loss: 0.5928\n",
      "Epoch [20/50] | D Loss: 0.2338 | G Loss: 0.5953\n",
      "Epoch [21/50] | D Loss: 0.2427 | G Loss: 0.9692\n",
      "Epoch [22/50] | D Loss: 0.2121 | G Loss: 0.8782\n",
      "Epoch [23/50] | D Loss: 0.1957 | G Loss: 0.7334\n",
      "Epoch [24/50] | D Loss: 0.2598 | G Loss: 0.9658\n",
      "Epoch [25/50] | D Loss: 0.1521 | G Loss: 1.1976\n",
      "Epoch [26/50] | D Loss: 0.1876 | G Loss: 0.8695\n",
      "Epoch [27/50] | D Loss: 0.2189 | G Loss: 1.3765\n",
      "Epoch [28/50] | D Loss: 0.1358 | G Loss: 1.2228\n",
      "Epoch [29/50] | D Loss: 0.2229 | G Loss: 0.8516\n",
      "Epoch [30/50] | D Loss: 0.2106 | G Loss: 1.1799\n",
      "Epoch [31/50] | D Loss: 0.2147 | G Loss: 1.0155\n",
      "Epoch [32/50] | D Loss: 0.2432 | G Loss: 0.7785\n",
      "Epoch [33/50] | D Loss: 0.2290 | G Loss: 0.8989\n",
      "Epoch [34/50] | D Loss: 0.2044 | G Loss: 0.7450\n",
      "Epoch [35/50] | D Loss: 0.2371 | G Loss: 0.8590\n",
      "Epoch [36/50] | D Loss: 0.1855 | G Loss: 1.0440\n",
      "Epoch [37/50] | D Loss: 0.1762 | G Loss: 0.9375\n",
      "Epoch [38/50] | D Loss: 0.2025 | G Loss: 1.2128\n",
      "Epoch [39/50] | D Loss: 0.2761 | G Loss: 0.9808\n",
      "Epoch [40/50] | D Loss: 0.1354 | G Loss: 1.0908\n",
      "Epoch [41/50] | D Loss: 0.1244 | G Loss: 0.7867\n",
      "Epoch [42/50] | D Loss: 0.2002 | G Loss: 1.2337\n",
      "Epoch [43/50] | D Loss: 0.1637 | G Loss: 0.9259\n",
      "Epoch [44/50] | D Loss: 0.2226 | G Loss: 0.7617\n",
      "Epoch [45/50] | D Loss: 0.2957 | G Loss: 1.1287\n",
      "Epoch [46/50] | D Loss: 0.1983 | G Loss: 0.8377\n",
      "Epoch [47/50] | D Loss: 0.2545 | G Loss: 0.9822\n",
      "Epoch [48/50] | D Loss: 0.2327 | G Loss: 1.3021\n",
      "Epoch [49/50] | D Loss: 0.2335 | G Loss: 1.7286\n",
      "Epoch [50/50] | D Loss: 0.2317 | G Loss: 1.0533\n"
     ]
    }
   ],
   "source": [
    "for epoch in range(epochs):\n",
    "    for i, (real_images, _) in enumerate(dataloader):\n",
    "        real_images = real_images.to(device)\n",
    "\n",
    "        # Generate fake images\n",
    "        z = torch.randn(real_images.size(0), latent_dim).to(device)\n",
    "        fake_images = generator(z)\n",
    "\n",
    "        # Train Discriminator\n",
    "        optimizer_D.zero_grad()\n",
    "        real_labels = torch.ones(real_images.size(0), 1).to(device)\n",
    "        fake_labels = torch.zeros(real_images.size(0), 1).to(device)\n",
    "\n",
    "        real_loss = loss_fn(discriminator(real_images), real_labels)\n",
    "        fake_loss = loss_fn(discriminator(fake_images.detach()), fake_labels)\n",
    "        d_loss = (real_loss + fake_loss) / 2\n",
    "        d_loss.backward()\n",
    "        optimizer_D.step()\n",
    "\n",
    "        # Train Generator\n",
    "        optimizer_G.zero_grad()\n",
    "        fake_loss_G = loss_fn(discriminator(fake_images), real_labels)  # Trick discriminator\n",
    "        fake_loss_G.backward()\n",
    "        optimizer_G.step()\n",
    "\n",
    "    print(f\"Epoch [{epoch+1}/{epochs}] | D Loss: {d_loss.item():.4f} | G Loss: {fake_loss_G.item():.4f}\")\n",
    "\n",
    "    # Save generated images every 10 epochs\n",
    "    if (epoch + 1) % 10 == 0:\n",
    "        torchvision.utils.save_image(fake_images[:16], f\"ls-gan_epoch{epoch+1}.png\", nrow=4, normalize=True)\n"
   ]
  },
  {
   "cell_type": "code",
   "execution_count": 10,
   "metadata": {
    "execution": {
     "iopub.execute_input": "2025-03-29T06:39:18.339078Z",
     "iopub.status.busy": "2025-03-29T06:39:18.338783Z",
     "iopub.status.idle": "2025-03-29T06:39:18.379690Z",
     "shell.execute_reply": "2025-03-29T06:39:18.378844Z",
     "shell.execute_reply.started": "2025-03-29T06:39:18.339054Z"
    },
    "trusted": true
   },
   "outputs": [
    {
     "data": {
      "image/png": "[encoded data removed]",
      "text/plain": [
       "<Figure size 640x480 with 1 Axes>"
      ]
     },
     "metadata": {},
     "output_type": "display_data"
    }
   ],
   "source": [
    "# Load and display generated images\n",
    "img = plt.imread(f\"ls-gan_epoch50.png\")\n",
    "plt.imshow(img)\n",
    "plt.axis(\"off\")\n",
    "plt.show()\n"
   ]
  },
  {
   "cell_type": "code",
   "execution_count": 11,
   "metadata": {
    "execution": {
     "iopub.execute_input": "2025-03-29T06:39:21.950798Z",
     "iopub.status.busy": "2025-03-29T06:39:21.950509Z",
     "iopub.status.idle": "2025-03-29T06:39:25.213709Z",
     "shell.execute_reply": "2025-03-29T06:39:25.212653Z",
     "shell.execute_reply.started": "2025-03-29T06:39:21.950776Z"
    },
    "trusted": true
   },
   "outputs": [
    {
     "name": "stdout",
     "output_type": "stream",
     "text": [
      "Requirement already satisfied: torch in /usr/local/lib/python3.10/dist-packages (2.5.1+cu121)\n",
      "Requirement already satisfied: torchvision in /usr/local/lib/python3.10/dist-packages (0.20.1+cu121)\n",
      "Requirement already satisfied: scipy in /usr/local/lib/python3.10/dist-packages (1.13.1)\n",
      "Requirement already satisfied: tqdm in /usr/local/lib/python3.10/dist-packages (4.67.1)\n",
      "Requirement already satisfied: filelock in /usr/local/lib/python3.10/dist-packages (from torch) (3.17.0)\n",
      "Requirement already satisfied: typing-extensions>=4.8.0 in /usr/local/lib/python3.10/dist-packages (from torch) (4.12.2)\n",
      "Requirement already satisfied: networkx in /usr/local/lib/python3.10/dist-packages (from torch) (3.4.2)\n",
      "Requirement already satisfied: jinja2 in /usr/local/lib/python3.10/dist-packages (from torch) (3.1.4)\n",
      "Requirement already satisfied: fsspec in /usr/local/lib/python3.10/dist-packages (from torch) (2024.12.0)\n",
      "Requirement already satisfied: sympy==1.13.1 in /usr/local/lib/python3.10/dist-packages (from torch) (1.13.1)\n",
      "Requirement already satisfied: mpmath<1.4,>=1.1.0 in /usr/local/lib/python3.10/dist-packages (from sympy==1.13.1->torch) (1.3.0)\n",
      "Requirement already satisfied: numpy in /usr/local/lib/python3.10/dist-packages (from torchvision) (1.26.4)\n",
      "Requirement already satisfied: pillow!=8.3.*,>=5.3.0 in /usr/local/lib/python3.10/dist-packages (from torchvision) (11.0.0)\n",
      "Requirement already satisfied: mkl_fft in /usr/local/lib/python3.10/dist-packages (from numpy->torchvision) (1.3.8)\n",
      "Requirement already satisfied: mkl_random in /usr/local/lib/python3.10/dist-packages (from numpy->torchvision) (1.2.4)\n",
      "Requirement already satisfied: mkl_umath in /usr/local/lib/python3.10/dist-packages (from numpy->torchvision) (0.1.1)\n",
      "Requirement already satisfied: mkl in /usr/local/lib/python3.10/dist-packages (from numpy->torchvision) (2025.0.1)\n",
      "Requirement already satisfied: tbb4py in /usr/local/lib/python3.10/dist-packages (from numpy->torchvision) (2022.0.0)\n",
      "Requirement already satisfied: mkl-service in /usr/local/lib/python3.10/dist-packages (from numpy->torchvision) (2.4.1)\n",
      "Requirement already satisfied: MarkupSafe>=2.0 in /usr/local/lib/python3.10/dist-packages (from jinja2->torch) (3.0.2)\n",
      "Requirement already satisfied: intel-openmp>=2024 in /usr/local/lib/python3.10/dist-packages (from mkl->numpy->torchvision) (2024.2.0)\n",
      "Requirement already satisfied: tbb==2022.* in /usr/local/lib/python3.10/dist-packages (from mkl->numpy->torchvision) (2022.0.0)\n",
      "Requirement already satisfied: tcmlib==1.* in /usr/local/lib/python3.10/dist-packages (from tbb==2022.*->mkl->numpy->torchvision) (1.2.0)\n",
      "Requirement already satisfied: intel-cmplr-lib-rt in /usr/local/lib/python3.10/dist-packages (from mkl_umath->numpy->torchvision) (2024.2.0)\n",
      "Requirement already satisfied: intel-cmplr-lib-ur==2024.2.0 in /usr/local/lib/python3.10/dist-packages (from intel-openmp>=2024->mkl->numpy->torchvision) (2024.2.0)\n",
      "Note: you may need to restart the kernel to use updated packages.\n"
     ]
    }
   ],
   "source": [
    "pip install torch torchvision scipy tqdm"
   ]
  },
  {
   "cell_type": "code",
   "execution_count": 19,
   "metadata": {
    "execution": {
     "iopub.execute_input": "2025-03-29T06:53:11.614363Z",
     "iopub.status.busy": "2025-03-29T06:53:11.613939Z",
     "iopub.status.idle": "2025-03-29T06:53:12.179400Z",
     "shell.execute_reply": "2025-03-29T06:53:12.178470Z",
     "shell.execute_reply.started": "2025-03-29T06:53:11.614329Z"
    },
    "trusted": true
   },
   "outputs": [
    {
     "name": "stdout",
     "output_type": "stream",
     "text": [
      "Inception Score: 1.2089\n"
     ]
    }
   ],
   "source": [
    "import torch\n",
    "import numpy as np\n",
    "import torch.nn.functional as F\n",
    "from scipy.stats import entropy\n",
    "from torchvision.models import inception_v3\n",
    "\n",
    "# Load InceptionV3 Model\n",
    "device = torch.device(\"cuda\" if torch.cuda.is_available() else \"cpu\")\n",
    "inception_model = inception_v3(weights=\"Inception_V3_Weights.DEFAULT\", transform_input=False).to(device)\n",
    "inception_model.eval()\n",
    "\n",
    "def get_pred(x):\n",
    "    \"\"\"Compute softmax probabilities from InceptionV3.\"\"\"\n",
    "    with torch.no_grad():\n",
    "        if x.shape[1] == 1:  # Convert grayscale to 3-channel\n",
    "            x = x.repeat(1, 3, 1, 1)\n",
    "        x = F.interpolate(x, size=(299, 299), mode='bilinear', align_corners=False)  # Resize to 299x299\n",
    "        x = inception_model(x)\n",
    "        return F.softmax(x, dim=1).cpu().numpy()\n",
    "\n",
    "def inception_score(images, batch_size=32, splits=10):\n",
    "    \"\"\"Compute Inception Score (IS).\"\"\"\n",
    "    preds = np.zeros((len(images), 1000))  # Inception outputs 1000 classes\n",
    "\n",
    "    for i in range(0, len(images), batch_size):\n",
    "        batch = images[i:i + batch_size].to(device)\n",
    "        preds[i:i + batch_size] = get_pred(batch)  # Get predictions\n",
    "\n",
    "    split_scores = []\n",
    "    for k in np.array_split(preds, splits):\n",
    "        p_yx = np.mean(k, axis=0)  # Compute mean probability distribution\n",
    "        p_yx = np.clip(p_yx, 1e-10, 1.0)  # Avoid log(0) issues\n",
    "        k = np.clip(k, 1e-10, 1.0)  # Avoid log(0) issues\n",
    "        kl_div = k * (np.log(k) - np.log(p_yx))  # Compute KL divergence\n",
    "        split_scores.append(np.sum(kl_div, axis=1).mean())  # Mean KL divergence\n",
    "\n",
    "    return np.exp(np.mean(split_scores))  # Final IS score\n",
    "\n",
    "# Example: Compute IS for generated images\n",
    "fake_images = torch.randn(100, 1, 64, 64)  # Example 100 grayscale images (1 channel, 64x64)\n",
    "is_score = inception_score(fake_images)\n",
    "print(f\"Inception Score: {is_score:.4f}\")\n"
   ]
  },
  {
   "cell_type": "code",
   "execution_count": 17,
   "metadata": {
    "execution": {
     "iopub.execute_input": "2025-03-29T06:52:02.434646Z",
     "iopub.status.busy": "2025-03-29T06:52:02.434355Z",
     "iopub.status.idle": "2025-03-29T06:52:09.093182Z",
     "shell.execute_reply": "2025-03-29T06:52:09.092288Z",
     "shell.execute_reply.started": "2025-03-29T06:52:02.434625Z"
    },
    "trusted": true
   },
   "outputs": [
    {
     "name": "stdout",
     "output_type": "stream",
     "text": [
      "FID Score: 266.3958\n"
     ]
    }
   ],
   "source": [
    "import numpy as np\n",
    "from scipy.linalg import sqrtm\n",
    "\n",
    "def calculate_fid(real_images, fake_images):\n",
    "    # Convert grayscale (1 channel) to RGB (3 channels)\n",
    "    if real_images.shape[1] == 1:\n",
    "        real_images = real_images.repeat(1, 3, 1, 1)\n",
    "    if fake_images.shape[1] == 1:\n",
    "        fake_images = fake_images.repeat(1, 3, 1, 1)\n",
    "\n",
    "    real_images = real_images.view(real_images.size(0), -1).detach().cpu().numpy()\n",
    "    fake_images = fake_images.view(fake_images.size(0), -1).detach().cpu().numpy()\n",
    "\n",
    "    mu_real, sigma_real = np.mean(real_images, axis=0), np.cov(real_images, rowvar=False)\n",
    "    mu_fake, sigma_fake = np.mean(fake_images, axis=0), np.cov(fake_images, rowvar=False)\n",
    "\n",
    "    fid_matrix = sigma_real + sigma_fake - 2 * sqrtm(sigma_real @ sigma_fake)\n",
    "    fid_score = np.linalg.norm(mu_real - mu_fake) + np.trace(fid_matrix)\n",
    "\n",
    "    # Ensure FID is a real number\n",
    "    return np.real(fid_score)\n",
    "\n",
    "# Example usage:\n",
    "fid_score = calculate_fid(real_images, fake_images)\n",
    "print(f\"FID Score: {fid_score:.4f}\")\n"
   ]
  },
  {
   "cell_type": "code",
   "execution_count": 14,
   "metadata": {
    "execution": {
     "iopub.execute_input": "2025-03-29T06:40:07.128913Z",
     "iopub.status.busy": "2025-03-29T06:40:07.128565Z",
     "iopub.status.idle": "2025-03-29T06:51:10.541427Z",
     "shell.execute_reply": "2025-03-29T06:51:10.540673Z",
     "shell.execute_reply.started": "2025-03-29T06:40:07.128880Z"
    },
    "trusted": true
   },
   "outputs": [],
   "source": [
    "from torch.utils.tensorboard import SummaryWriter\n",
    "\n",
    "writer = SummaryWriter()\n",
    "\n",
    "for epoch in range(epochs):\n",
    "    for i, (real_images, _) in enumerate(dataloader):\n",
    "        # Training logic (same as before)\n",
    "        pass\n",
    "\n",
    "    # Log losses and generated images\n",
    "    writer.add_scalar(\"Loss/Generator\", fake_loss_G.item(), epoch)\n",
    "    writer.add_scalar(\"Loss/Discriminator\", d_loss.item(), epoch)\n",
    "\n",
    "    # Save and log generated images\n",
    "    z = torch.randn(16, 100).to(device)\n",
    "    fake_images = generator(z)\n",
    "    writer.add_image(\"Generated Images\", torchvision.utils.make_grid(fake_images, nrow=4, normalize=True), epoch)\n",
    "\n",
    "writer.close()\n"
   ]
  },
  {
   "cell_type": "code",
   "execution_count": 21,
   "metadata": {
    "execution": {
     "iopub.execute_input": "2025-03-29T06:53:54.994461Z",
     "iopub.status.busy": "2025-03-29T06:53:54.994169Z",
     "iopub.status.idle": "2025-03-29T06:54:01.035772Z",
     "shell.execute_reply": "2025-03-29T06:54:01.034869Z",
     "shell.execute_reply.started": "2025-03-29T06:53:54.994439Z"
    },
    "trusted": true
   },
   "outputs": [
    {
     "data": {
      "application/javascript": "\n        (async () => {\n            const url = new URL(await google.colab.kernel.proxyPort(6006, {'cache': true}));\n            url.searchParams.set('tensorboardColab', 'true');\n            const iframe = document.createElement('iframe');\n            iframe.src = url;\n            iframe.setAttribute('width', '100%');\n            iframe.setAttribute('height', '800');\n            iframe.setAttribute('frameborder', 0);\n            document.body.appendChild(iframe);\n        })();\n    ",
      "text/plain": [
       "<IPython.core.display.Javascript object>"
      ]
     },
     "metadata": {},
     "output_type": "display_data"
    }
   ],
   "source": [
    "from torch.utils.tensorboard import SummaryWriter\n",
    "from tensorboard import notebook\n",
    "\n",
    "# Define the log directory\n",
    "log_dir = \"./runs/experiment_1\"\n",
    "\n",
    "# Start TensorBoard\n",
    "notebook.start(\"--logdir \" + log_dir)\n"
   ]
  },
  {
   "cell_type": "code",
   "execution_count": 22,
   "metadata": {
    "execution": {
     "iopub.execute_input": "2025-03-29T06:54:25.665689Z",
     "iopub.status.busy": "2025-03-29T06:54:25.665377Z",
     "iopub.status.idle": "2025-03-29T06:54:29.682897Z",
     "shell.execute_reply": "2025-03-29T06:54:29.682180Z",
     "shell.execute_reply.started": "2025-03-29T06:54:25.665660Z"
    },
    "trusted": true
   },
   "outputs": [
    {
     "data": {
      "application/javascript": "\n        (async () => {\n            const url = new URL(await google.colab.kernel.proxyPort(6007, {'cache': true}));\n            url.searchParams.set('tensorboardColab', 'true');\n            const iframe = document.createElement('iframe');\n            iframe.src = url;\n            iframe.setAttribute('width', '100%');\n            iframe.setAttribute('height', '800');\n            iframe.setAttribute('frameborder', 0);\n            document.body.appendChild(iframe);\n        })();\n    ",
      "text/plain": [
       "<IPython.core.display.Javascript object>"
      ]
     },
     "metadata": {},
     "output_type": "display_data"
    }
   ],
   "source": [
    "%load_ext tensorboard\n",
    "%tensorboard --logdir ./runs\n"
   ]
  },
  {
   "cell_type": "code",
   "execution_count": 23,
   "metadata": {
    "execution": {
     "iopub.execute_input": "2025-03-29T06:54:49.223737Z",
     "iopub.status.busy": "2025-03-29T06:54:49.223441Z",
     "iopub.status.idle": "2025-03-29T06:54:49.440202Z",
     "shell.execute_reply": "2025-03-29T06:54:49.439111Z",
     "shell.execute_reply.started": "2025-03-29T06:54:49.223715Z"
    },
    "trusted": true
   },
   "outputs": [
    {
     "name": "stdout",
     "output_type": "stream",
     "text": [
      "  adding: runs/ (stored 0%)\n",
      "  adding: runs/Mar29_06-40-18_b3f998016aa6/ (stored 0%)\n",
      "  adding: runs/Mar29_06-40-18_b3f998016aa6/events.out.tfevents.1743230418.b3f998016aa6.31.0 (deflated 5%)\n"
     ]
    }
   ],
   "source": [
    "!zip -r tensorboard_logs.zip ./runs\n"
   ]
  },
  {
   "cell_type": "code",
   "execution_count": null,
   "metadata": {
    "trusted": true
   },
   "outputs": [],
   "source": []
  }
 ],
 "metadata": {
  "kaggle": {
   "accelerator": "gpu",
   "dataSources": [],
   "dockerImageVersionId": 30919,
   "isGpuEnabled": true,
   "isInternetEnabled": true,
   "language": "python",
   "sourceType": "notebook"
  },
  "kernelspec": {
   "display_name": "Python 3",
   "language": "python",
   "name": "python3"
  },
  "language_info": {
   "codemirror_mode": {
    "name": "ipython",
    "version": 3
   },
   "file_extension": ".py",
   "mimetype": "text/x-python",
   "name": "python",
   "nbconvert_exporter": "python",
   "pygments_lexer": "ipython3",
   "version": "3.10.12"
  }
 },
 "nbformat": 4,
 "nbformat_minor": 4
}
